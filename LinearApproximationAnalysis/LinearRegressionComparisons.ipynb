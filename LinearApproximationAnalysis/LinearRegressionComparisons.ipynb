{
  "nbformat": 4,
  "nbformat_minor": 0,
  "metadata": {
    "colab": {
      "provenance": []
    },
    "kernelspec": {
      "name": "python3",
      "display_name": "Python 3"
    },
    "language_info": {
      "name": "python"
    }
  },
  "cells": [
    {
      "cell_type": "code",
      "execution_count": null,
      "metadata": {
        "id": "EQAUe2QKslxv"
      },
      "outputs": [],
      "source": [
        "import numpy as np\n",
        "from sklearn.model_selection import train_test_split\n",
        "from numpy.linalg import inv\n",
        "from sklearn.linear_model import LinearRegression\n",
        "from sklearn.metrics import mean_squared_error"
      ]
    },
    {
      "cell_type": "markdown",
      "source": [
        "Generate N = 10000 random numbers from [0, 1]:\n",
        "x1, x2, . . . , xN ∈ [0, 1] ,\n",
        "and then obtain their labels: yi =\n",
        "√\n",
        "1 + xi\n",
        ", i = 1, 2, . . . , N.\n",
        "\n"
      ],
      "metadata": {
        "id": "aVZ7ybZ9stzW"
      }
    },
    {
      "cell_type": "code",
      "source": [
        "N = 1000\n",
        "\n",
        "X = np.random.uniform(0, 1, N)\n",
        "y = np.sqrt(1 + X)"
      ],
      "metadata": {
        "id": "fElx6RQ8sq3x"
      },
      "execution_count": null,
      "outputs": []
    },
    {
      "cell_type": "code",
      "source": [
        "X.shape, y.shape"
      ],
      "metadata": {
        "colab": {
          "base_uri": "https://localhost:8080/"
        },
        "id": "CUY84Ymksx5V",
        "outputId": "74b22411-7a8b-48ad-a062-615f71b65672"
      },
      "execution_count": null,
      "outputs": [
        {
          "output_type": "execute_result",
          "data": {
            "text/plain": [
              "((1000,), (1000,))"
            ]
          },
          "metadata": {},
          "execution_count": 27
        }
      ]
    },
    {
      "cell_type": "markdown",
      "source": [
        "Train Test Val split Data"
      ],
      "metadata": {
        "id": "O03-oknBtD4P"
      }
    },
    {
      "cell_type": "code",
      "source": [
        "def train_test_val_split(X, Y, test_size=0.2, val_size=0.2):\n",
        "  X_temp, X_test, y_temp, y_test = train_test_split(X, Y, test_size=test_size, random_state=42)\n",
        "\n",
        "  val_size = val_size / (1 - test_size)\n",
        "\n",
        "  X_train, X_val, y_train, y_val = train_test_split(X_temp, y_temp, test_size=val_size, random_state=42)\n",
        "\n",
        "  return X_train, X_val, X_test, y_train, y_val, y_test"
      ],
      "metadata": {
        "id": "yd-KRuYzs0Y6"
      },
      "execution_count": null,
      "outputs": []
    },
    {
      "cell_type": "code",
      "source": [
        "X_train, X_val, X_test, y_train, y_val, y_test = train_test_val_split(X, y)"
      ],
      "metadata": {
        "id": "uRdQj-OIs3mB"
      },
      "execution_count": null,
      "outputs": []
    },
    {
      "cell_type": "code",
      "source": [
        "X_train.shape, X_test.shape, X_val.shape"
      ],
      "metadata": {
        "colab": {
          "base_uri": "https://localhost:8080/"
        },
        "id": "hCWIDupYtJV5",
        "outputId": "d98d93f1-393d-4c57-d03a-f0afb31c4122"
      },
      "execution_count": null,
      "outputs": [
        {
          "output_type": "execute_result",
          "data": {
            "text/plain": [
              "((600,), (200,), (200,))"
            ]
          },
          "metadata": {},
          "execution_count": 30
        }
      ]
    },
    {
      "cell_type": "code",
      "source": [
        "# add 1s for bias\n",
        "X_train = np.c_[np.ones(X_train.shape[0]), X_train]\n",
        "X_val = np.c_[np.ones(X_val.shape[0]), X_val]\n",
        "X_test = np.c_[np.ones(X_test.shape[0]), X_test]"
      ],
      "metadata": {
        "id": "QIAtM26DtMdI"
      },
      "execution_count": null,
      "outputs": []
    },
    {
      "cell_type": "code",
      "source": [
        "X_train.shape, X_test.shape, X_val.shape"
      ],
      "metadata": {
        "colab": {
          "base_uri": "https://localhost:8080/"
        },
        "id": "UUeKom_CtUh8",
        "outputId": "2c7f4c4a-0010-456e-9aaa-8d2822b44843"
      },
      "execution_count": null,
      "outputs": [
        {
          "output_type": "execute_result",
          "data": {
            "text/plain": [
              "((600, 2), (200, 2), (200, 2))"
            ]
          },
          "metadata": {},
          "execution_count": 32
        }
      ]
    },
    {
      "cell_type": "markdown",
      "source": [
        "Linear Regression Closed Form Solution"
      ],
      "metadata": {
        "id": "1QMxHM99tbqL"
      }
    },
    {
      "cell_type": "code",
      "source": [
        "weights = inv(X_train.T.dot(X_train)).dot(X_train.T).dot(y_train)"
      ],
      "metadata": {
        "id": "JqQ0Rz8TtYJ5"
      },
      "execution_count": null,
      "outputs": []
    },
    {
      "cell_type": "code",
      "source": [
        "weights"
      ],
      "metadata": {
        "colab": {
          "base_uri": "https://localhost:8080/"
        },
        "id": "SCIKR3MbtjqO",
        "outputId": "afdb2ed0-2bf1-4dfe-9294-410c55057907"
      },
      "execution_count": null,
      "outputs": [
        {
          "output_type": "execute_result",
          "data": {
            "text/plain": [
              "array([1.01341295, 0.41205347])"
            ]
          },
          "metadata": {},
          "execution_count": 34
        }
      ]
    },
    {
      "cell_type": "code",
      "source": [
        "y_pred_val = X_val.dot(weights)\n",
        "print(\"Validation MSE: \", mean_squared_error(y_val, y_pred_val))"
      ],
      "metadata": {
        "colab": {
          "base_uri": "https://localhost:8080/"
        },
        "id": "86p-NSd_tlcP",
        "outputId": "dd961539-f91f-4976-f62d-217e8f20f285"
      },
      "execution_count": null,
      "outputs": [
        {
          "output_type": "stream",
          "name": "stdout",
          "text": [
            "Validation MSE:  2.5772586954229273e-05\n"
          ]
        }
      ]
    },
    {
      "cell_type": "code",
      "source": [
        "y_pred = X_test.dot(weights)\n",
        "print(\"Test MSE: \", mean_squared_error(y_test, y_pred))"
      ],
      "metadata": {
        "colab": {
          "base_uri": "https://localhost:8080/"
        },
        "id": "r3UzRnk-tocv",
        "outputId": "7672914d-ea35-4b47-bd78-b6aeee6db911"
      },
      "execution_count": null,
      "outputs": [
        {
          "output_type": "stream",
          "name": "stdout",
          "text": [
            "Test MSE:  2.9189201114517663e-05\n"
          ]
        }
      ]
    },
    {
      "cell_type": "markdown",
      "source": [
        "Linear Regression using sklearn"
      ],
      "metadata": {
        "id": "BoIfbWVLtufT"
      }
    },
    {
      "cell_type": "code",
      "source": [
        "model = LinearRegression().fit(X_train, y_train)"
      ],
      "metadata": {
        "id": "5mF86febtsLt"
      },
      "execution_count": null,
      "outputs": []
    },
    {
      "cell_type": "code",
      "source": [
        "model.intercept_"
      ],
      "metadata": {
        "colab": {
          "base_uri": "https://localhost:8080/"
        },
        "id": "zV6HdDjvt4b7",
        "outputId": "a3f0a290-5e87-4721-8c55-3492b6c1c6fd"
      },
      "execution_count": null,
      "outputs": [
        {
          "output_type": "execute_result",
          "data": {
            "text/plain": [
              "1.013412952854936"
            ]
          },
          "metadata": {},
          "execution_count": 38
        }
      ]
    },
    {
      "cell_type": "code",
      "source": [
        "model.coef_"
      ],
      "metadata": {
        "colab": {
          "base_uri": "https://localhost:8080/"
        },
        "id": "wBDUD9NYt56S",
        "outputId": "57795807-c150-4734-811f-69d6b6eac0ad"
      },
      "execution_count": null,
      "outputs": [
        {
          "output_type": "execute_result",
          "data": {
            "text/plain": [
              "array([0.        , 0.41205347])"
            ]
          },
          "metadata": {},
          "execution_count": 39
        }
      ]
    },
    {
      "cell_type": "code",
      "source": [
        "model.coef_[0] = model.intercept_"
      ],
      "metadata": {
        "id": "kuB1ywZULgMf"
      },
      "execution_count": null,
      "outputs": []
    },
    {
      "cell_type": "code",
      "source": [
        "y_pred_val = model.predict(X_val)\n",
        "print(\"Validation MSE: \", mean_squared_error(y_val, y_pred_val))"
      ],
      "metadata": {
        "colab": {
          "base_uri": "https://localhost:8080/"
        },
        "id": "GD3k2oqtt7fu",
        "outputId": "a5e42542-e3e7-4ba1-d8db-91b9c855bfa2"
      },
      "execution_count": null,
      "outputs": [
        {
          "output_type": "stream",
          "name": "stdout",
          "text": [
            "Validation MSE:  1.027082329779287\n"
          ]
        }
      ]
    },
    {
      "cell_type": "code",
      "source": [
        "y_pred_test = model.predict(X_test)\n",
        "print(\"Test MSE: \", mean_squared_error(y_test, y_pred_test))"
      ],
      "metadata": {
        "colab": {
          "base_uri": "https://localhost:8080/"
        },
        "id": "tjULnVUfuG2M",
        "outputId": "919430fc-59e2-4196-b32f-0d4afaf13ea1"
      },
      "execution_count": null,
      "outputs": [
        {
          "output_type": "stream",
          "name": "stdout",
          "text": [
            "Test MSE:  1.0290111248847398\n"
          ]
        }
      ]
    },
    {
      "cell_type": "markdown",
      "source": [
        "Linear Regression with Gradient Descent"
      ],
      "metadata": {
        "id": "H6YhDVW2uMPd"
      }
    },
    {
      "cell_type": "code",
      "source": [
        "class LinearRegressionGD:\n",
        "  def __init__(self, max_iter=1000, lr=0.01, metric_change=0.0001):\n",
        "    self.max_iter = max_iter\n",
        "    self.lr = lr\n",
        "    self.metric_change = metric_change\n",
        "\n",
        "  def update_weights(self, x, y):\n",
        "    n = x.shape[0]\n",
        "    y_pred = self.predict(x)\n",
        "    d_w0 = -2/n * np.sum(y - y_pred)\n",
        "    d_w1 = -2/n * np.sum(x[:, 1:] * (y - y_pred).reshape(-1, 1))\n",
        "    gradient = np.array([d_w0, d_w1])\n",
        "    self.weights -= self.lr * gradient\n",
        "\n",
        "  def score(self, x, y):\n",
        "    y_pred = self.predict(x)\n",
        "    return np.mean((y - y_pred)**2)\n",
        "\n",
        "  def fit(self, x_train, y_train, x_val, y_val):\n",
        "    self.weights = np.zeros(x_train.shape[1])\n",
        "    prev_score = float('-inf')\n",
        "\n",
        "    for i in range(self.max_iter):\n",
        "      self.update_weights(x_train, y_train)\n",
        "      val_score = self.score(X_val, y_val)\n",
        "      if abs(val_score - prev_score) < self.metric_change:\n",
        "        break\n",
        "      prev_score = val_score\n",
        "    return self\n",
        "\n",
        "\n",
        "  def predict(self, x):\n",
        "    return x.dot(self.weights)"
      ],
      "metadata": {
        "id": "Kq8xgvxeuIcS"
      },
      "execution_count": null,
      "outputs": []
    },
    {
      "cell_type": "code",
      "source": [
        "model_gd = LinearRegressionGD().fit(X_train, y_train, X_val, y_val)"
      ],
      "metadata": {
        "id": "Odb5zNeDwjke"
      },
      "execution_count": null,
      "outputs": []
    },
    {
      "cell_type": "code",
      "source": [
        "model_gd.weights"
      ],
      "metadata": {
        "colab": {
          "base_uri": "https://localhost:8080/"
        },
        "id": "ACRVqrhCwsYp",
        "outputId": "049fe1ce-dc6b-4f7c-ed68-b4da1277686a"
      },
      "execution_count": null,
      "outputs": [
        {
          "output_type": "execute_result",
          "data": {
            "text/plain": [
              "array([0.93531769, 0.47827034])"
            ]
          },
          "metadata": {},
          "execution_count": 45
        }
      ]
    },
    {
      "cell_type": "code",
      "source": [
        "y_pred_test = model_gd.predict(X_test)\n",
        "print(\"Test MSE: \", mean_squared_error(y_test, y_pred_test))"
      ],
      "metadata": {
        "colab": {
          "base_uri": "https://localhost:8080/"
        },
        "id": "kuASD67Rw5l5",
        "outputId": "9ad917f5-a4a7-4dab-97e9-84a4c43414e3"
      },
      "execution_count": null,
      "outputs": [
        {
          "output_type": "stream",
          "name": "stdout",
          "text": [
            "Test MSE:  0.0022676401315474483\n"
          ]
        }
      ]
    },
    {
      "cell_type": "markdown",
      "source": [
        "Linear Regression with Stochastic Gradient Descent"
      ],
      "metadata": {
        "id": "LKYIQh0WxAa3"
      }
    },
    {
      "cell_type": "code",
      "source": [
        "class LinearRegressionSGD:\n",
        "  def __init__(self, max_iter=1000, lr=0.001, metric_change=0.0001):\n",
        "    self.max_iter = max_iter\n",
        "    self.lr = lr\n",
        "    self.metric_change = metric_change\n",
        "\n",
        "  def update_weights(self, x, y):\n",
        "    y_pred = self.predict(x)\n",
        "    d_w0 = -2* (y - y_pred)\n",
        "    d_w1 = -2* (x[1] * (y - y_pred))\n",
        "    gradient = np.array([d_w0, d_w1])\n",
        "    self.weights -= self.lr * gradient\n",
        "\n",
        "  def score(self, x, y):\n",
        "    y_pred = self.predict(x)\n",
        "    return np.mean((y - y_pred)**2)\n",
        "\n",
        "  def fit(self, x_train, y_train, x_val, y_val):\n",
        "    self.weights = np.zeros(x_train.shape[1])\n",
        "    prev_score = float('-inf')\n",
        "\n",
        "    for i in range(self.max_iter):\n",
        "      random_index = np.random.randint(0, len(x_train))\n",
        "      self.update_weights(x_train[random_index], y_train[random_index])\n",
        "      val_score = self.score(X_val, y_val)\n",
        "      if abs(val_score - prev_score) < self.metric_change:\n",
        "        break\n",
        "      prev_score = val_score\n",
        "    return self\n",
        "\n",
        "\n",
        "  def predict(self, x):\n",
        "    return x.dot(self.weights)"
      ],
      "metadata": {
        "id": "ZHL2h-6Yw-UO"
      },
      "execution_count": null,
      "outputs": []
    },
    {
      "cell_type": "code",
      "source": [
        "model_sgd = LinearRegressionSGD().fit(X_train, y_train, X_val, y_val)"
      ],
      "metadata": {
        "id": "C6BdGydiyBn-"
      },
      "execution_count": null,
      "outputs": []
    },
    {
      "cell_type": "code",
      "source": [
        "model_sgd.weights"
      ],
      "metadata": {
        "colab": {
          "base_uri": "https://localhost:8080/"
        },
        "id": "Hpm7B-3WyIV3",
        "outputId": "d8e92641-5db7-4cea-cb5f-396890dbd3b5"
      },
      "execution_count": null,
      "outputs": [
        {
          "output_type": "execute_result",
          "data": {
            "text/plain": [
              "array([0.84782832, 0.44534599])"
            ]
          },
          "metadata": {},
          "execution_count": 52
        }
      ]
    },
    {
      "cell_type": "code",
      "source": [
        "y_pred_test = model_sgd.predict(X_test)\n",
        "print(\"Test MSE: \", mean_squared_error(y_test, y_pred_test))"
      ],
      "metadata": {
        "colab": {
          "base_uri": "https://localhost:8080/"
        },
        "id": "OgH_BXbvygqt",
        "outputId": "6d38a8d5-0240-402a-d50b-4be6f1c199d7"
      },
      "execution_count": null,
      "outputs": [
        {
          "output_type": "stream",
          "name": "stdout",
          "text": [
            "Test MSE:  0.021858913304025025\n"
          ]
        }
      ]
    },
    {
      "cell_type": "markdown",
      "source": [
        "Linear Regression with Mini-batch Gradient Descent"
      ],
      "metadata": {
        "id": "lfx9rDiCysgd"
      }
    },
    {
      "cell_type": "code",
      "source": [
        "class LinearRegressionBGD:\n",
        "  def __init__(self, max_iter=1000, lr=0.001, metric_change=0.0001, batch_size=100):\n",
        "    self.max_iter = max_iter\n",
        "    self.lr = lr\n",
        "    self.metric_change = metric_change\n",
        "    self.batch_size = batch_size\n",
        "\n",
        "  def update_weights(self, x, y):\n",
        "    n = x.shape[0]\n",
        "    y_pred = self.predict(x)\n",
        "    d_w0 = -2/n* np.sum(y - y_pred)\n",
        "    d_w1 = -2/n* np.sum(x[:,1:] * (y - y_pred))\n",
        "    gradient = np.array([d_w0, d_w1])\n",
        "    self.weights -= self.lr * gradient\n",
        "\n",
        "  def score(self, x, y):\n",
        "    y_pred = self.predict(x)\n",
        "    return np.mean((y - y_pred)**2)\n",
        "\n",
        "  def fit(self, x_train, y_train, x_val, y_val):\n",
        "    self.weights = np.zeros(x_train.shape[1])\n",
        "    prev_score = float('-inf')\n",
        "\n",
        "    for i in range(self.max_iter):\n",
        "      indices = np.random.choice(x_train.shape[0], self.batch_size, replace=False)\n",
        "      self.update_weights(x_train[indices], y_train[indices])\n",
        "      val_score = self.score(X_val, y_val)\n",
        "      if abs(val_score - prev_score) < self.metric_change:\n",
        "        break\n",
        "      prev_score = val_score\n",
        "    return self\n",
        "\n",
        "\n",
        "  def predict(self, x):\n",
        "    return x.dot(self.weights)"
      ],
      "metadata": {
        "id": "l1Zz14hbyi4f"
      },
      "execution_count": null,
      "outputs": []
    },
    {
      "cell_type": "code",
      "source": [
        "model_bgd = LinearRegressionBGD().fit(X_train, y_train, X_val, y_val)"
      ],
      "metadata": {
        "id": "BSl6IQtIzW5a"
      },
      "execution_count": null,
      "outputs": []
    },
    {
      "cell_type": "code",
      "source": [
        "model_bgd.weights"
      ],
      "metadata": {
        "colab": {
          "base_uri": "https://localhost:8080/"
        },
        "id": "_Z4wMtg1zeye",
        "outputId": "366ec11f-ab1a-476e-d53a-996aff8bd6cd"
      },
      "execution_count": null,
      "outputs": [
        {
          "output_type": "execute_result",
          "data": {
            "text/plain": [
              "array([0.04546267, 2.2625328 ])"
            ]
          },
          "metadata": {},
          "execution_count": 56
        }
      ]
    },
    {
      "cell_type": "code",
      "source": [
        "y_pred_test = model_bgd.predict(X_test)\n",
        "print(\"Test MSE: \", mean_squared_error(y_test, y_pred_test))"
      ],
      "metadata": {
        "colab": {
          "base_uri": "https://localhost:8080/"
        },
        "id": "z3sfM-9MzhDI",
        "outputId": "a90c9bb0-f6aa-4fbb-b930-11d113cd649f"
      },
      "execution_count": null,
      "outputs": [
        {
          "output_type": "stream",
          "name": "stdout",
          "text": [
            "Test MSE:  0.3074881710606223\n"
          ]
        }
      ]
    },
    {
      "cell_type": "markdown",
      "source": [
        "Sketch the graphs of all approximations on one graph."
      ],
      "metadata": {
        "id": "YSzYcHRyNjEi"
      }
    },
    {
      "cell_type": "code",
      "source": [
        "import matplotlib.pyplot as plt\n",
        "\n",
        "closed_form_weights = weights\n",
        "sklearn_weights = model.coef_\n",
        "gd_weights = model_gd.weights\n",
        "sgd_weights = model_sgd.weights\n",
        "bgd_weights = model_bgd.weights\n",
        "\n",
        "\n",
        "x = np.linspace(-10, 10, 400)\n",
        "\n",
        "plt.plot(x, closed_form_weights[0]*x + closed_form_weights[1], label='Closed Form', color='blue')\n",
        "plt.plot(x, sklearn_weights[0]*x + sklearn_weights[1], label='Sklearn', color='red')\n",
        "plt.plot(x, gd_weights[0]*x + gd_weights[1], label='GradientDescent', color='green')\n",
        "plt.plot(x, sgd_weights[0]*x + sgd_weights[1], label='StochasticGD', color='purple')\n",
        "plt.plot(x, bgd_weights[0]*x + bgd_weights[1], label='BatchGD', color='orange')\n",
        "\n",
        "\n",
        "plt.legend()\n",
        "plt.title('Linear Regression Approximations')\n",
        "plt.grid(True)\n",
        "plt.show()"
      ],
      "metadata": {
        "colab": {
          "base_uri": "https://localhost:8080/",
          "height": 452
        },
        "id": "-YdIBs6szj61",
        "outputId": "29b1298e-c8ea-47bd-a5fc-36de03f0c361"
      },
      "execution_count": null,
      "outputs": [
        {
          "output_type": "display_data",
          "data": {
            "text/plain": [
              "<Figure size 640x480 with 1 Axes>"
            ],
            "image/png": "[encoded data removed]"
          },
          "metadata": {}
        }
      ]
    },
    {
      "cell_type": "markdown",
      "source": [
        "Compare all solutions with the first degree Taylor approximation of\n",
        "the function √\n",
        "1 + x."
      ],
      "metadata": {
        "id": "wGhe-jF-Px7U"
      }
    },
    {
      "cell_type": "code",
      "source": [
        "taylor = 1 + 0.5 * x\n",
        "\n",
        "x = np.linspace(-10, 10, 400)\n",
        "\n",
        "plt.plot(x, closed_form_weights[0]*x + closed_form_weights[1], label='Closed Form', color='blue')\n",
        "plt.plot(x, sklearn_weights[0]*x + sklearn_weights[1], label='Sklearn', color='red')\n",
        "plt.plot(x, gd_weights[0]*x + gd_weights[1], label='GradientDescent', color='green')\n",
        "plt.plot(x, sgd_weights[0]*x + sgd_weights[1], label='StochasticGD', color='purple')\n",
        "plt.plot(x, bgd_weights[0]*x + bgd_weights[1], label='BatchGD', color='orange')\n",
        "plt.plot(x, taylor, label='Taylor', color='black', linestyle='--')\n",
        "\n",
        "\n",
        "plt.legend()\n",
        "plt.title('Linear Regression Approximations vs Taylor')\n",
        "plt.grid(True)\n",
        "plt.show()"
      ],
      "metadata": {
        "colab": {
          "base_uri": "https://localhost:8080/",
          "height": 452
        },
        "id": "1sPTfJPVK5cY",
        "outputId": "684631bb-5efa-438f-b659-f3aa6be287b3"
      },
      "execution_count": null,
      "outputs": [
        {
          "output_type": "display_data",
          "data": {
            "text/plain": [
              "<Figure size 640x480 with 1 Axes>"
            ],
            "image/png": "[encoded data removed]"
          },
          "metadata": {}
        }
      ]
    },
    {
      "cell_type": "code",
      "source": [],
      "metadata": {
        "id": "Zta9y4PJPgoB"
      },
      "execution_count": null,
      "outputs": []
    }
  ]
}